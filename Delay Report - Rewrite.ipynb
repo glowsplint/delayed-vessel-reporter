{
 "cells": [
  {
   "cell_type": "markdown",
   "metadata": {},
   "source": [
    "## Delay Report"
   ]
  },
  {
   "cell_type": "code",
   "execution_count": 1,
   "metadata": {},
   "outputs": [],
   "source": [
    "# Imports\n",
    "import pandas as pd\n",
    "import numpy as np\n",
    "import random\n",
    "import os\n",
    "import json\n",
    "import requests\n",
    "import time\n",
    "\n",
    "from tqdm.auto import tqdm\n",
    "from pathlib import Path\n",
    "from datetime import datetime, timedelta\n",
    "# from requests_html import HTMLSession, AsyncHTMLSession"
   ]
  },
  {
   "cell_type": "code",
   "execution_count": 74,
   "metadata": {},
   "outputs": [],
   "source": [
    "pd.set_option('display.max_columns', None)\n",
    "pd.set_option('display.max_rows', None)"
   ]
  },
  {
   "cell_type": "code",
   "execution_count": 3,
   "metadata": {},
   "outputs": [],
   "source": [
    "from delay_report import write_json, read_config"
   ]
  },
  {
   "cell_type": "code",
   "execution_count": 4,
   "metadata": {},
   "outputs": [],
   "source": [
    "# Read configurations\n",
    "config = {v['Field']: v['Value'] for k, v in pd.read_excel(\n",
    "    'data/Configurations.xlsx').to_dict('index').items()}\n",
    "\n",
    "# Used to map Fwd Agent column to the respective carrier portals\n",
    "carrier_mapping = {v['Fwd Agent']: v['Carrier'] for k, v in pd.read_excel(\n",
    "    'data/Carrier Mapping.xlsx').to_dict('index').items()}\n",
    "\n",
    "# Read the vessel delay tracking file\n",
    "xl = pd.ExcelFile('Vessel Delay Tracking.xlsx')"
   ]
  },
  {
   "cell_type": "markdown",
   "metadata": {},
   "source": [
    "### ONE"
   ]
  },
  {
   "cell_type": "code",
   "execution_count": 15,
   "metadata": {},
   "outputs": [],
   "source": [
    "interval = (2,5)\n",
    "port_id = {}\n",
    "session = requests.Session()\n",
    "\n",
    "delay_sheet = (xl.parse().query(f\"`Fwd Agent` in {[k for k,v in carrier_mapping.items() if v == 'ONE']}\")\n",
    "                    .replace({'Fwd Agent': carrier_mapping})\n",
    "                    .drop(['updated_etd', 'updated_eta', 'No. of days delayed ETD',\n",
    "                           'No. of days delayed ETA', 'Reason of Delay'], axis=1)\n",
    "                    .copy())\n",
    "\n",
    "port_mapping = {v['Port Code']: v['Port Name'] for k, v in (pd.read_excel('data/Port Code Mapping - ONE.xlsx')\n",
    "                                                                                     .to_dict('index').items())}\n",
    "\n",
    "delay_sheet = delay_sheet.assign(pol_name=lambda x: x['Port of Loading'],\n",
    "                                 pod_name=lambda x: x['Port of discharge']).copy()\n",
    "\n",
    "delay_sheet.pod_name = delay_sheet.pod_name.replace(port_mapping)"
   ]
  },
  {
   "cell_type": "code",
   "execution_count": 18,
   "metadata": {},
   "outputs": [],
   "source": [
    "key = ['pol_name', 'pod_name']\n",
    "reduced_df = delay_sheet.drop_duplicates(key)[\n",
    "    key].sort_values(key)\n",
    "\n",
    "reduced_df.dropna(inplace=True)"
   ]
  },
  {
   "cell_type": "code",
   "execution_count": 35,
   "metadata": {},
   "outputs": [
    {
     "data": {
      "application/vnd.jupyter.widget-view+json": {
       "model_id": "dd9ffc623f524f1c8f52dc0329290383",
       "version_major": 2,
       "version_minor": 0
      },
      "text/plain": [
       "HBox(children=(FloatProgress(value=0.0, max=4.0), HTML(value='')))"
      ]
     },
     "metadata": {},
     "output_type": "display_data"
    },
    {
     "name": "stdout",
     "output_type": "stream",
     "text": [
      "\n"
     ]
    }
   ],
   "source": [
    "def get_schedules(pol_name: str, pod_name: str):\n",
    "    url = \"https://ecomm.one-line.com/ecom/CUP_HOM_3001GS.do\"\n",
    "\n",
    "    first_day = datetime.today().replace(day=1).strftime('%Y-%m-%d')\n",
    "    last_day = datetime.today().replace(day=25).replace(month=datetime.today().month+1).strftime('%Y-%m-%d')\n",
    "\n",
    "    payload = f'f_cmd=3&por_cd={pol_name}&del_cd={pod_name}&rcv_term_cd=Y&de_term_cd=Y&frm_dt={first_day}&to_dt={last_day}&ts_ind=&skd_tp=L'\n",
    "    headers = {\n",
    "        'Connection': 'keep-alive',\n",
    "        'Accept': 'application/json, text/javascript, */*; q=0.01',\n",
    "        'X-Requested-With': 'XMLHttpRequest',\n",
    "        'User-Agent': 'Mozilla/5.0 (Windows NT 10.0; Win64; x64) AppleWebKit/537.36 (KHTML, like Gecko) Chrome/84.0.4147.135 Safari/537.36',\n",
    "        'Content-Type': 'application/x-www-form-urlencoded',\n",
    "        'Origin': 'https://ecomm.one-line.com',\n",
    "        'Sec-Fetch-Site': 'same-origin',\n",
    "        'Sec-Fetch-Mode': 'cors',\n",
    "        'Sec-Fetch-Dest': 'empty',\n",
    "        'Referer': 'https://ecomm.one-line.com/ecom/CUP_HOM_3001.do?sessLocale=en',\n",
    "        'Accept-Language': 'en-GB,en;q=0.9',\n",
    "    }\n",
    "    \n",
    "    return requests.post(url, headers=headers, data=payload)\n",
    "\n",
    "response_jsons = []\n",
    "for row in tqdm(reduced_df.itertuples(), total=len(reduced_df)):\n",
    "    response_filename = f'ONE {row.pol_name}-{row.pod_name}.json'\n",
    "    if response_filename not in os.listdir():\n",
    "        response = get_schedules(row.pol_name, row.pod_name)\n",
    "        response_jsons.append(response.json())\n",
    "        if len(response.json()):\n",
    "            write_json(response.json(), response_filename)\n",
    "        time.sleep(random.randint(*interval))\n",
    "    else:\n",
    "        with open(response_filename, 'r') as f:\n",
    "            response_jsons.append(json.load(f))"
   ]
  },
  {
   "cell_type": "code",
   "execution_count": 72,
   "metadata": {},
   "outputs": [],
   "source": [
    "def get_relevant_fields(response, i):\n",
    "    def get_vv(response, i):\n",
    "        return response['list'][i]['n1stVslNm'].rsplit(maxsplit=1)\n",
    "    \n",
    "    return {\n",
    "        'pol_code': response['list'][i]['polYdCd'][:5],\n",
    "        'pod_code': response['list'][i]['lstPodYdCd'][:5],\n",
    "        'Voyage': get_vv(response, i)[0],\n",
    "        'Vessel': get_vv(response, i)[1],\n",
    "        'updated_etd': response['list'][i]['polEtdDt'],\n",
    "        'updated_eta': response['list'][i]['polEtaDt']\n",
    "    }\n",
    "\n",
    "response_df = pd.DataFrame(([get_relevant_fields(response, i)\n",
    "                                  for response in response_jsons\n",
    "                                  if len(response)\n",
    "                                  for i in range(len(response['list']))]))"
   ]
  },
  {
   "cell_type": "code",
   "execution_count": 94,
   "metadata": {},
   "outputs": [],
   "source": [
    "# Create reverse mapping from port_code to name\n",
    "port_id_reversed = {v['First Name']: v['Port Name'] for k, v in (pd.read_excel('data/Port Code Mapping - COSCO.xlsx')\n",
    "                                                                 .to_dict('index').items())}\n",
    "\n",
    "if len(response_df):\n",
    "    response_df['pol_name'] = response_df.pol_code.map(\n",
    "        port_id_reversed)\n",
    "    response_df['pod_name'] = response_df.pod_code.map(\n",
    "        port_id_reversed)\n",
    "\n",
    "    merge_key = ['pol_name', 'pod_name', 'Vessel', 'Voyage']\n",
    "    response_df = response_df.sort_values(\n",
    "        'updated_eta').drop_duplicates(merge_key)\n",
    "\n",
    "    delay_sheet = (delay_sheet.reset_index().\n",
    "                        merge(response_df[merge_key + ['updated_eta', 'updated_etd']],\n",
    "                              on=merge_key, how='left')\n",
    "                        .set_index('index')\n",
    "                        .copy())\n",
    "else:\n",
    "    # TODO: i think this should be delay_sheet\n",
    "    response_df = pd.DataFrame({\n",
    "        'pol_name': [], 'pod_name': [],\n",
    "        'Vessel': [], 'Voyage': [],\n",
    "        'updated_eta': [], 'updated_etd': []})"
   ]
  },
  {
   "cell_type": "markdown",
   "metadata": {},
   "source": [
    "### HAPAG"
   ]
  },
  {
   "cell_type": "code",
   "execution_count": 36,
   "metadata": {},
   "outputs": [],
   "source": [
    "hapag_sheet = (\n",
    "    xl.parse(pd.to_datetime(xl.sheet_names,\n",
    "                            errors='coerce',\n",
    "                            format='%d.%m.%Y').max().date().strftime('%d.%m.%Y'),\n",
    "                            parse_dates=True)\n",
    "                            .query(f\"`Fwd Agent` in {[k for k,v in carrier_mapping.items() if v == 'HAPAG']}\")\n",
    "                            .replace({'Fwd Agent': carrier_mapping})\n",
    ")"
   ]
  },
  {
   "cell_type": "code",
   "execution_count": 38,
   "metadata": {},
   "outputs": [],
   "source": [
    "port_mapping = {v['Port Code']: v['Port Name'] for k, v in (pd.read_excel('data/Port Code Mapping - HAPAG.xlsx')\n",
    "                                                                 .to_dict('index').items())}"
   ]
  },
  {
   "cell_type": "code",
   "execution_count": 39,
   "metadata": {},
   "outputs": [],
   "source": [
    "# Get port name\n",
    "delay_sheet = hapag_sheet.assign(pol_name=lambda x: x['Port of Loading'],\n",
    "                                 pol_code=lambda x: x['Port of Loading'],\n",
    "                                 pod_name=lambda x: x['Port of discharge'],\n",
    "                                 pod_code=lambda x: x['Port of discharge']).copy()\n",
    "\n",
    "interval = (2,5)\n",
    "session = requests.Session()"
   ]
  },
  {
   "cell_type": "code",
   "execution_count": 40,
   "metadata": {},
   "outputs": [],
   "source": [
    "delay_sheet.pol_name = delay_sheet.pol_name.replace(port_mapping)\n",
    "delay_sheet.pod_name = delay_sheet.pod_name.replace(port_mapping)"
   ]
  },
  {
   "cell_type": "code",
   "execution_count": 41,
   "metadata": {},
   "outputs": [],
   "source": [
    "key = ['pol_name', 'pod_name']\n",
    "reduced_df = delay_sheet.drop_duplicates(key)[key + ['pol_code', 'pod_code']].sort_values(key)\n",
    "\n",
    "reduced_df.dropna(inplace=True)"
   ]
  },
  {
   "cell_type": "code",
   "execution_count": 42,
   "metadata": {},
   "outputs": [],
   "source": [
    "def get_schedules(pol_name: str, pod_name: str, pol_code: str, pod_code: str):\n",
    "    pol_name = pol_name.replace(',', '%2C').replace(' ', '%20')\n",
    "    pod_name = pod_name.replace(',', '%2C').replace(' ', '%20')\n",
    "    first_day = datetime.today().replace(day=1).strftime('%Y-%m-%d')\n",
    "    url = f'https://www.hapag-lloyd.com/en/online-business/schedules/interactive-schedule.html?sn={pol_name}&sl={pol_code}&sp=3000&en={pod_name}&el={pod_code}&ep=&exportHaulage=MH&importHaulage=MH&departureDate={first_day}&weeksAfterStart=6&reefer=N'\n",
    "    return session.get(url)"
   ]
  },
  {
   "cell_type": "code",
   "execution_count": 43,
   "metadata": {
    "scrolled": false
   },
   "outputs": [],
   "source": [
    "r = get_schedules(reduced_df.pol_name.iloc[0], reduced_df.pod_name.iloc[0],\n",
    "                  reduced_df.pol_code.iloc[0], reduced_df.pod_code.iloc[0])"
   ]
  },
  {
   "cell_type": "code",
   "execution_count": 44,
   "metadata": {},
   "outputs": [
    {
     "data": {
      "text/plain": [
       "'<!DOCTYPE html>\\r\\n<html><head>\\r\\n<meta http-equiv=\"Pragma\" content=\"no-cache\"/>\\r\\n<meta http-equiv=\"Expires\" content=\"-1\"/>\\r\\n<meta http-equiv=\"CacheControl\" content=\"no-cache\"/>\\r\\n<meta http-equiv=\"Content-Type\" content=\"text/html; charset=utf-8\"/>\\r\\n<link rel=\"shortcut icon\" href=\"data:;base64,iVBORw0KGgo=\"/>\\r\\n\\r\\n<script>\\r\\n\\r\\n(function(){\\r\\nwindow[\"bobcmn\"] = \"111110111110102000000022000000052000000002a4b927ad200000096300000000300000000300000006/TSPD/300000008TSPD_101300000005https3000000b0081ecde62cab2000197d8704303c1d94cd372d9e5d00f6ef0afb7063dcd798e7c871f08391a8222f0898e6784a0a280029cee1825eeb770adc44313c824db5de966df9d4e07c4e804401eab2e34c3910c383370e9d1c9bbe200000000200000000\";\\r\\n\\r\\nwindow.NVDX=!!window.NVDX;try{(function(){(function(){})();var OL=74;try{var sL,_L,IL=O(709)?0:1,JL=O(821)?0:1;for(var Lo=(O(232),0);Lo<_L;++Lo)IL+=O(588)?1:2,JL+=(O(764),3);sL=IL+JL;window.I_===sL&&(window.I_=++sL)}catch(oo){window.I_=sL}var Oo=!0;function io(L){var z=50;!L||document[Z(z,168,155,165,155,148,155,158,155,166,171,133,166,147,166,151)]&&document[Z(z,168,155,165,155,148,155,158,155,166,171,133,166,147,166,151)]!==S(68616527616,z)||(Oo=!1);return Oo}\\nfunction Z(L){var z=arguments.length,s=[];for(var J=1;J<z;++J)s.push(arguments[J]-L);return String.fromCharCode.apply(String,s)}function _(L){var z=arguments.length,s=[],J=1;while(J<z)s[J-1]=arguments[J++]-L;return String.fromCharCode.apply(String,s)}function jo(){}io(window[jo[S(1086780,OL)]]===jo);io(typeof ie9rgb4!==S(1242178186125,OL));io(RegExp(\"\\\\x3c\")[S(1372131,OL)](function(){return\"\\\\x3c\"})&!RegExp(S(42815,OL))[S(1372131,OL)](function(){return\"\\'x3\\'+\\'d\\';\"}));\\nvar oO=window[Z(OL,171,190,190,171,173,178,143,192,175,184,190)]||RegExp(_(OL,183,185,172,179,198,171,184,174,188,185,179,174),S(-56,OL))[S(1372131,OL)](window[\"\\\\x6e\\\\x61vi\\\\x67a\\\\x74\\\\x6f\\\\x72\"][\"\\\\x75\\\\x73e\\\\x72A\\\\x67\\\\x65\\\\x6et\"]),OO=+new Date+(O(185)?6E5:681699),ZO,sO,SO,lO=window[_(OL,189,175,190,158,179,183,175,185,191,190)],Lz=oO?O(386)?21405:3E4:O(19)?6E3:6952;\\ndocument[Z(OL,171,174,174,143,192,175,184,190,150,179,189,190,175,184,175,188)]&&document[Z(OL,171,174,174,143,192,175,184,190,150,179,189,190,175,184,175,188)](_(OL,192,179,189,179,172,179,182,179,190,195,173,178,171,184,177,175),function(L){var z=69;document[_(z,187,174,184,174,167,174,177,174,185,190,152,185,166,185,170)]&&(document[Z(z,187,174,184,174,167,174,177,174,185,190,152,185,166,185,170)]===S(1058781914,z)&&L[Z(z,174,184,153,183,186,184,185,170,169)]?SO=!0:document[_(z,187,174,184,174,\\n167,174,177,174,185,190,152,185,166,185,170)]===_(z,187,174,184,174,167,177,170)&&(ZO=+new Date,SO=!1,oz()))});function S(L,z){L+=z;return L.toString(36)}function oz(){if(!document[_(62,175,179,163,176,183,145,163,170,163,161,178,173,176)])return!0;var L=+new Date;if(L>OO&&(O(367)?336147:6E5)>L-ZO)return io(!1);var z=io(sO&&!SO&&ZO+Lz<L);ZO=L;sO||(sO=!0,lO(function(){sO=!1},O(627)?0:1));return z}oz();var Oz=[O(112)?17795081:19509706,O(341)?2147483647:27611931586,O(220)?960150391:1558153217];\\nfunction zz(L){var z=64;L=typeof L===S(1743045612,z)?L:L[_(z,180,175,147,180,178,169,174,167)](O(764)?44:36);var s=window[L];if(!s[Z(z,180,175,147,180,178,169,174,167)])return;var J=\"\"+s;window[L]=function(L,z){sO=!1;return s(L,z)};window[L][_(z,180,175,147,180,178,169,174,167)]=function(){return J}}for(var Zz=(O(408),0);Zz<Oz[S(1294399131,OL)];++Zz)zz(Oz[Zz]);io(!1!==window[_(OL,152,160,142,162)]);window.ii={JI:\"08060d22020178003141b02a9e1cb3b11a5007890d24383220d1b9cee53751613ba2245f3301b7f28b3e319b3dd104584d9b49ace31f4788d1659df916909d769e9b00708507180ea5b6451a3b740df908ebc9f503514d9873d323cfbb54b628df443d146cada9d9ebe56103706f2016836c408bf50d398b50c1f84ce5dc6fe9\"};\\nfunction iz(L){var z=+new Date,s;!document[_(70,183,187,171,184,191,153,171,178,171,169,186,181,184,135,178,178)]||z>OO&&(O(762)?834107:6E5)>z-ZO?s=io(!1):(s=io(sO&&!SO&&ZO+Lz<z),ZO=z,sO||(sO=!0,lO(function(){sO=!1},O(269)?0:1)));return!(arguments[L]^s)}function O(L){return 203>L}\\n(function(){var L=/(\\\\A([0-9a-f]{1,4}:){1,6}(:[0-9a-f]{1,4}){1,1}\\\\Z)|(\\\\A(([0-9a-f]{1,4}:){1,7}|:):\\\\Z)|(\\\\A:(:[0-9a-f]{1,4}){1,7}\\\\Z)/ig,z=document.getElementsByTagName(\"head\")[0],s=[];z&&(z=z.innerHTML.slice(0,1E3));while(z=L.exec(\"\"))s.push(z)})();})();}catch(x){}finally{ie9rgb4=void(0);};function ie9rgb4(a,b){return a>>b>>0};\\n\\r\\n})();\\r\\n\\r\\n</script>\\r\\n\\r\\n<script type=\"text/javascript\" src=\"/TSPD/081ecde62cab2000b7ad4a0f4dd95fc213246500cdd87b17280c25bf318fddafb2633a6d2406d0a7?type=8\"></script>\\r\\n\\r\\n<script>\\r\\n\\r\\n(function(){\\r\\nwindow[\"blobfp\"] = \"010101010100e803ad27b9a40d4a006431323966393332393433666530623930303566343838346462303030303163323033663162303264383738363035316566353763326636616562353064353563383563386161373062210068747470733a2f2f72652e73656375726974792e66356161732e636f6d2f72652f\";window[\"slobfp\"] = \"08060d22020b1000df5e2b24d2291446b7a4513d5bd1baa9\";\\r\\n\\r\\n\\r\\n})();\\r\\n\\r\\n</script>\\r\\n\\r\\n<script type=\"text/javascript\" src=\"/TSPD/081ecde62cab2000b7ad4a0f4dd95fc213246500cdd87b17280c25bf318fddafb2633a6d2406d0a7?type=12\"></script>\\r\\n<noscript>Please enable JavaScript to view the page content.<br/>Your support ID is: 17324345504172291570.</noscript>\\r\\n</head><body>\\r\\n</body></html>'"
      ]
     },
     "execution_count": 44,
     "metadata": {},
     "output_type": "execute_result"
    }
   ],
   "source": [
    "r.text"
   ]
  },
  {
   "cell_type": "markdown",
   "metadata": {},
   "source": [
    "### Use selenium with phantomJS driver or headless"
   ]
  },
  {
   "cell_type": "code",
   "execution_count": null,
   "metadata": {},
   "outputs": [],
   "source": [
    "response_jsons = []\n",
    "for row in tqdm(reduced_df.itertuples(), total=len(reduced_df)):\n",
    "    response_filename = f'Hapag {row.pol_name}-{row.pod_name}.html'\n",
    "    if response_filename not in os.listdir():\n",
    "        response = get_schedules(row.pol_name, row.pod_name, row.pol_code, row.pod_code)\n",
    "        response_jsons.append(response.text)\n",
    "        if len(response.text):\n",
    "            with open(response_filename, 'w') as f:\n",
    "                f.write(response.text)\n",
    "        time.sleep(random.randint(*interval))\n",
    "    else:\n",
    "        with open(response_filename, 'r') as f:\n",
    "            response_jsons.append(f.read())"
   ]
  },
  {
   "cell_type": "code",
   "execution_count": null,
   "metadata": {},
   "outputs": [],
   "source": [
    "response_intermediate = [pd.read_html(response) for response in response_jsons]"
   ]
  },
  {
   "cell_type": "code",
   "execution_count": null,
   "metadata": {},
   "outputs": [],
   "source": [
    "response.text"
   ]
  }
 ],
 "metadata": {
  "kernelspec": {
   "display_name": "Python 3",
   "language": "python",
   "name": "python3"
  },
  "language_info": {
   "codemirror_mode": {
    "name": "ipython",
    "version": 3
   },
   "file_extension": ".py",
   "mimetype": "text/x-python",
   "name": "python",
   "nbconvert_exporter": "python",
   "pygments_lexer": "ipython3",
   "version": "3.7.6"
  }
 },
 "nbformat": 4,
 "nbformat_minor": 4
}
