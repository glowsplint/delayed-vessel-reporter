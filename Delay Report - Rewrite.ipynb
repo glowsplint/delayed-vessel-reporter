{
 "cells": [
  {
   "cell_type": "markdown",
   "metadata": {},
   "source": [
    "## Delay Report"
   ]
  },
  {
   "cell_type": "code",
   "execution_count": 1,
   "metadata": {},
   "outputs": [],
   "source": [
    "# Imports\n",
    "import pandas as pd\n",
    "import numpy as np\n",
    "import random\n",
    "import os\n",
    "import json\n",
    "import requests\n",
    "import time\n",
    "\n",
    "from tqdm.auto import tqdm\n",
    "from pathlib import Path\n",
    "from datetime import datetime, timedelta\n",
    "# from requests_html import HTMLSession, AsyncHTMLSession"
   ]
  },
  {
   "cell_type": "code",
   "execution_count": 2,
   "metadata": {},
   "outputs": [],
   "source": [
    "pd.set_option('display.max_columns', None)\n",
    "# pd.set_option('display.max_rows', None)"
   ]
  },
  {
   "cell_type": "code",
   "execution_count": 3,
   "metadata": {},
   "outputs": [],
   "source": [
    "from delay_report import write_json, read_config"
   ]
  },
  {
   "cell_type": "code",
   "execution_count": 4,
   "metadata": {},
   "outputs": [],
   "source": [
    "# Read configurations\n",
    "config = {v['Field']: v['Value'] for k, v in pd.read_excel(\n",
    "    'data/Configurations.xlsx').to_dict('index').items()}\n",
    "\n",
    "# Used to map Fwd Agent column to the respective carrier portals\n",
    "carrier_mapping = {v['Fwd Agent']: v['Carrier'] for k, v in pd.read_excel(\n",
    "    'data/Carrier Mapping.xlsx').to_dict('index').items()}\n",
    "\n",
    "# # Prepare base information\n",
    "# # UNLOCODE to port name mapping\n",
    "# port_mapping = (\n",
    "#     pd.concat([pd.read_csv(p, usecols=[1, 2, 4, 5], engine='python', names=[\n",
    "#               'country', 'port', 'name', 'subdiv']) for p in Path('data').glob(\"*UNLOCODE CodeListPart*\")])\n",
    "#     .query('port == port')\n",
    "#     .assign(\n",
    "#         uncode=lambda x: x.country.str.cat(x.port),\n",
    "#         full_name=lambda x: np.where(\n",
    "#             x.subdiv.notnull(), x.name.str.cat(x.subdiv, sep=\", \"), x.name)\n",
    "#     )\n",
    "#     .drop_duplicates('uncode')\n",
    "#     .set_index('uncode')\n",
    "#     .to_dict('index')\n",
    "# )\n",
    "\n",
    "# Read the vessel delay tracking file\n",
    "xl = pd.ExcelFile('Vessel Delay Tracking.xlsx')"
   ]
  },
  {
   "cell_type": "markdown",
   "metadata": {},
   "source": [
    "### HAPAG"
   ]
  },
  {
   "cell_type": "code",
   "execution_count": null,
   "metadata": {},
   "outputs": [],
   "source": [
    "hapag_sheet = (\n",
    "    xl.parse(pd.to_datetime(xl.sheet_names,\n",
    "                            errors='coerce',\n",
    "                            format='%d.%m.%Y').max().date().strftime('%d.%m.%Y'),\n",
    "                            parse_dates=True)\n",
    "                            .query(f\"`Fwd Agent` in {[k for k,v in carrier_mapping.items() if v == 'HAPAG']}\")\n",
    "                            .replace({'Fwd Agent': carrier_mapping})\n",
    ")"
   ]
  },
  {
   "cell_type": "code",
   "execution_count": null,
   "metadata": {},
   "outputs": [],
   "source": [
    "port_mapping = {v['Port Code']: v['Port Name'] for k, v in (pd.read_excel('data/Hapag Port Code Mapping.xlsx')\n",
    "                                                                 .to_dict('index').items())}"
   ]
  },
  {
   "cell_type": "code",
   "execution_count": null,
   "metadata": {},
   "outputs": [],
   "source": [
    "# Get port name\n",
    "delay_sheet = hapag_sheet.assign(pol_name=lambda x: x['Port of Loading'],\n",
    "                                 pol_code=lambda x: x['Port of Loading'],\n",
    "                                 pod_name=lambda x: x['Port of discharge'],\n",
    "                                 pod_code=lambda x: x['Port of discharge']).copy()\n",
    "\n",
    "interval = (2,5)\n",
    "session = requests.Session()"
   ]
  },
  {
   "cell_type": "code",
   "execution_count": null,
   "metadata": {},
   "outputs": [],
   "source": [
    "delay_sheet.pol_name = delay_sheet.pol_name.replace(port_mapping)\n",
    "delay_sheet.pod_name = delay_sheet.pod_name.replace(port_mapping)"
   ]
  },
  {
   "cell_type": "code",
   "execution_count": null,
   "metadata": {},
   "outputs": [],
   "source": [
    "key = ['pol_name', 'pod_name']\n",
    "reduced_df = delay_sheet.drop_duplicates(key)[key + ['pol_code', 'pod_code']].sort_values(key)\n",
    "\n",
    "reduced_df.dropna(inplace=True)"
   ]
  },
  {
   "cell_type": "code",
   "execution_count": null,
   "metadata": {},
   "outputs": [],
   "source": [
    "def get_schedules(pol_name: str, pod_name: str, pol_code: str, pod_code: str):\n",
    "    pol_name = pol_name.replace(',', '%2C').replace(' ', '%20')\n",
    "    pod_name = pod_name.replace(',', '%2C').replace(' ', '%20')\n",
    "    first_day = datetime.today().replace(day=1).strftime('%Y-%m-%d')\n",
    "    url = f'https://www.hapag-lloyd.com/en/online-business/schedules/interactive-schedule.html?sn={pol_name}&sl={pol_code}&sp=3000&en={pod_name}&el={pod_code}&ep=&exportHaulage=MH&importHaulage=MH&departureDate={first_day}&weeksAfterStart=6&reefer=N'\n",
    "    return session.get(url)"
   ]
  },
  {
   "cell_type": "code",
   "execution_count": null,
   "metadata": {
    "scrolled": false
   },
   "outputs": [],
   "source": [
    "r = get_schedules(reduced_df.pol_name.iloc[0], reduced_df.pod_name.iloc[0],\n",
    "                  reduced_df.pol_code.iloc[0], reduced_df.pod_code.iloc[0])"
   ]
  },
  {
   "cell_type": "markdown",
   "metadata": {},
   "source": [
    "### Use selenium with phantomJS driver or headless"
   ]
  },
  {
   "cell_type": "code",
   "execution_count": null,
   "metadata": {},
   "outputs": [],
   "source": [
    "response_jsons = []\n",
    "for row in tqdm(reduced_df.itertuples(), total=len(reduced_df)):\n",
    "    response_filename = f'Hapag {row.pol_name}-{row.pod_name}.html'\n",
    "    if response_filename not in os.listdir():\n",
    "        response = get_schedules(row.pol_name, row.pod_name, row.pol_code, row.pod_code)\n",
    "        response_jsons.append(response.text)\n",
    "        if len(response.text):\n",
    "            with open(response_filename, 'w') as f:\n",
    "                f.write(response.text)\n",
    "        time.sleep(random.randint(*interval))\n",
    "    else:\n",
    "        with open(response_filename, 'r') as f:\n",
    "            response_jsons.append(f.read())"
   ]
  },
  {
   "cell_type": "code",
   "execution_count": null,
   "metadata": {},
   "outputs": [],
   "source": [
    "response_intermediate = [pd.read_html(response) for response in response_jsons]"
   ]
  },
  {
   "cell_type": "code",
   "execution_count": null,
   "metadata": {},
   "outputs": [],
   "source": [
    "response.text"
   ]
  }
 ],
 "metadata": {
  "kernelspec": {
   "display_name": "Python 3",
   "language": "python",
   "name": "python3"
  },
  "language_info": {
   "codemirror_mode": {
    "name": "ipython",
    "version": 3
   },
   "file_extension": ".py",
   "mimetype": "text/x-python",
   "name": "python",
   "nbconvert_exporter": "python",
   "pygments_lexer": "ipython3",
   "version": "3.7.6"
  }
 },
 "nbformat": 4,
 "nbformat_minor": 4
}
